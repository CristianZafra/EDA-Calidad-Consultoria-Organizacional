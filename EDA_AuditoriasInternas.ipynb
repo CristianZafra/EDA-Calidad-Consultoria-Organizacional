{
 "cells": [
  {
   "cell_type": "markdown",
   "id": "bcae865e",
   "metadata": {},
   "source": [
    "# Análisis Exploratorio de Datos: Auditorías Internas\n",
    "\n",
    "Este análisis se enfoca en los resultados de auditorías internas realizadas a diferentes áreas organizacionales, evaluando no conformidades, gravedad, acciones correctivas y tiempos de cierre."
   ]
  },
  {
   "cell_type": "markdown",
   "id": "ff76a100",
   "metadata": {},
   "source": [
    "## 1. Carga de Datos desde Google Colab"
   ]
  },
  {
   "cell_type": "code",
   "execution_count": null,
   "id": "f4902bf1",
   "metadata": {},
   "outputs": [],
   "source": [
    "from google.colab import files\n",
    "uploaded = files.upload()\n",
    "import pandas as pd\n",
    "import io\n",
    "df = pd.read_csv(io.BytesIO(uploaded['AuditoríasInternas.csv']))\n",
    "df.head()"
   ]
  },
  {
   "cell_type": "markdown",
   "id": "aa9b8630",
   "metadata": {},
   "source": [
    "## 2. Análisis Exploratorio de Datos"
   ]
  },
  {
   "cell_type": "code",
   "execution_count": null,
   "id": "c43b4938",
   "metadata": {},
   "outputs": [],
   "source": [
    "\n",
    "df.info()\n",
    "df.describe()\n",
    "df.isnull().sum()\n",
    "df.duplicated().sum()\n",
    "\n",
    "# Conversión de fechas\n",
    "df['Fecha'] = pd.to_datetime(df['Fecha'])\n",
    "\n",
    "import matplotlib.pyplot as plt\n",
    "import seaborn as sns\n",
    "sns.set(style='whitegrid')\n",
    "\n",
    "# No conformidades por área\n",
    "conformidades_area = df.groupby('Área')['No Conformidades'].sum().sort_values()\n",
    "conformidades_area.plot(kind='barh', title='Total de No Conformidades por Área', figsize=(8,5))\n",
    "plt.xlabel('No Conformidades')\n",
    "plt.show()\n",
    "\n",
    "# Distribución del tiempo de cierre\n",
    "sns.histplot(df['Tiempo de Cierre'], bins=20, kde=True)\n",
    "plt.title('Distribución del Tiempo de Cierre de No Conformidades')\n",
    "plt.show()\n",
    "\n",
    "# Gravedad de las no conformidades\n",
    "sns.countplot(data=df, x='Gravedad', order=['Baja', 'Media', 'Alta'])\n",
    "plt.title('Frecuencia de Gravedad de No Conformidades')\n",
    "plt.show()\n",
    "\n",
    "# Acción Correctiva vs Gravedad\n",
    "sns.countplot(data=df, x='Gravedad', hue='Acción Correctiva')\n",
    "plt.title('Acciones Correctivas por Nivel de Gravedad')\n",
    "plt.show()\n",
    "\n",
    "# Mapa de calor: frecuencia mensual por área\n",
    "df['Mes'] = df['Fecha'].dt.month\n",
    "pivot = df.pivot_table(index='Área', columns='Mes', values='No Conformidades', aggfunc='sum')\n",
    "sns.heatmap(pivot, annot=True, cmap='Reds')\n",
    "plt.title('Mapa de Calor de No Conformidades por Área y Mes')\n",
    "plt.show()\n"
   ]
  }
 ],
 "metadata": {},
 "nbformat": 4,
 "nbformat_minor": 5
}