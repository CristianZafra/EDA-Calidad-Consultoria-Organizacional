{
 "cells": [
  {
   "cell_type": "markdown",
   "id": "06e3daf0",
   "metadata": {},
   "source": [
    "# Análisis Exploratorio de Datos y Visualización para Consultoría Empresarial\n",
    "Este cuaderno permite realizar un análisis exploratorio guiado sobre datos organizacionales simulados, con el fin de apoyar procesos de diagnóstico y mejora continua en el contexto de la Gerencia Estratégica de la Calidad."
   ]
  },
  {
   "cell_type": "markdown",
   "id": "7ff70399",
   "metadata": {},
   "source": [
    "## 1. Carga y Preprocesamiento de Datos"
   ]
  },
  {
   "cell_type": "code",
   "execution_count": null,
   "id": "d0c0038f",
   "metadata": {},
   "outputs": [],
   "source": [
    "# Asistente de carga desde Google Colab\n",
    "from google.colab import files\n",
    "uploaded = files.upload()"
   ]
  },
  {
   "cell_type": "code",
   "execution_count": null,
   "id": "53ef865e",
   "metadata": {},
   "outputs": [],
   "source": [
    "import pandas as pd\n",
    "import io\n",
    "\n",
    "produccion = pd.read_csv(io.BytesIO(uploaded['ProduccionMensual.csv']))\n",
    "satisfaccion = pd.read_csv(io.BytesIO(uploaded['SatisfacciónClientes.csv']))\n",
    "auditorias = pd.read_csv(io.BytesIO(uploaded['AuditoríasInternas.csv']))\n",
    "costos = pd.read_csv(io.BytesIO(uploaded['CostosCalidad.csv']))"
   ]
  },
  {
   "cell_type": "markdown",
   "id": "fa55dc14",
   "metadata": {},
   "source": [
    "### Limpieza de valores nulos, conversión de fechas y revisión de duplicados"
   ]
  },
  {
   "cell_type": "code",
   "execution_count": null,
   "id": "ea5ee5d8",
   "metadata": {},
   "outputs": [],
   "source": [
    "# Conversión de fechas\n",
    "satisfaccion['Fecha'] = pd.to_datetime(satisfaccion['Fecha'])\n",
    "auditorias['Fecha'] = pd.to_datetime(auditorias['Fecha'])\n",
    "\n",
    "# Valores nulos\n",
    "print('Valores nulos por tabla:')\n",
    "print('Producción:', produccion.isnull().sum())\n",
    "print('Satisfacción:', satisfaccion.isnull().sum())\n",
    "print('Auditorías:', auditorias.isnull().sum())\n",
    "print('Costos:', costos.isnull().sum())\n",
    "\n",
    "# Duplicados\n",
    "print('\\nDuplicados por tabla:')\n",
    "print('Producción:', produccion.duplicated().sum())\n",
    "print('Satisfacción:', satisfaccion.duplicated().sum())\n",
    "print('Auditorías:', auditorias.duplicated().sum())\n",
    "print('Costos:', costos.duplicated().sum())"
   ]
  },
  {
   "cell_type": "markdown",
   "id": "80ede513",
   "metadata": {},
   "source": [
    "## 2. Análisis Descriptivo"
   ]
  },
  {
   "cell_type": "code",
   "execution_count": null,
   "id": "148aad97",
   "metadata": {},
   "outputs": [],
   "source": [
    "# Estadísticos básicos\n",
    "produccion.describe(), satisfaccion.describe(), costos.describe()"
   ]
  },
  {
   "cell_type": "markdown",
   "id": "3decb7bb",
   "metadata": {},
   "source": [
    "## 3. Detección de Patrones y Correlaciones"
   ]
  },
  {
   "cell_type": "code",
   "execution_count": null,
   "id": "c0a673b9",
   "metadata": {},
   "outputs": [],
   "source": [
    "# Correlación entre fallas y tiempo de ciclo\n",
    "produccion[['Unidades Defectuosas', 'Tiempo de Ciclo']].corr()"
   ]
  },
  {
   "cell_type": "code",
   "execution_count": null,
   "id": "77b3180c",
   "metadata": {},
   "outputs": [],
   "source": [
    "# Relación entre costos de calidad y unidades defectuosas (requiere merge)\n",
    "df_merge = produccion.merge(costos, on='Mes')\n",
    "df_merge[['Unidades Defectuosas', 'Costo Fallas Internas', 'Costo Fallas Externas']].corr()"
   ]
  },
  {
   "cell_type": "markdown",
   "id": "f328ad65",
   "metadata": {},
   "source": [
    "## 4. Visualizaciones"
   ]
  },
  {
   "cell_type": "code",
   "execution_count": null,
   "id": "5935a4e8",
   "metadata": {},
   "outputs": [],
   "source": [
    "import matplotlib.pyplot as plt\n",
    "import seaborn as sns\n",
    "sns.set(style='whitegrid')\n",
    "\n",
    "# Series de tiempo\n",
    "plt.figure(figsize=(10, 5))\n",
    "plt.plot(produccion['Mes'], produccion['Unidades Defectuosas'], marker='o')\n",
    "plt.title('Unidades Defectuosas por Mes')\n",
    "plt.xticks(rotation=45)\n",
    "plt.ylabel('Defectos')\n",
    "plt.show()"
   ]
  },
  {
   "cell_type": "code",
   "execution_count": null,
   "id": "946d1757",
   "metadata": {},
   "outputs": [],
   "source": [
    "# Boxplot por tipo de reclamo\n",
    "plt.figure(figsize=(8, 5))\n",
    "sns.boxplot(data=satisfaccion, x='Tipo de Reclamo', y='Satisfacción (1-5)')\n",
    "plt.title('Satisfacción por Tipo de Reclamo')\n",
    "plt.show()"
   ]
  },
  {
   "cell_type": "code",
   "execution_count": null,
   "id": "ae3d5904",
   "metadata": {},
   "outputs": [],
   "source": [
    "# Mapa de calor de auditorías\n",
    "pivot_audit = auditorias.pivot_table(index='Área', columns=auditorias['Fecha'].dt.month, values='No Conformidades', aggfunc='sum')\n",
    "plt.figure(figsize=(10, 6))\n",
    "sns.heatmap(pivot_audit, annot=True, cmap='YlOrRd')\n",
    "plt.title('Mapa de Calor de No Conformidades por Área y Mes')\n",
    "plt.show()"
   ]
  },
  {
   "cell_type": "code",
   "execution_count": null,
   "id": "bd621483",
   "metadata": {},
   "outputs": [],
   "source": [
    "# Dispersión satisfacción vs tiempo de respuesta\n",
    "plt.figure(figsize=(8, 5))\n",
    "sns.scatterplot(data=satisfaccion, x='Tiempo de Respuesta', y='Satisfacción (1-5)', hue='Resuelto')\n",
    "plt.title('Relación entre Tiempo de Respuesta y Satisfacción')\n",
    "plt.show()"
   ]
  },
  {
   "cell_type": "markdown",
   "id": "5d51bc6e",
   "metadata": {},
   "source": [
    "## 5. Diagnóstico y Conclusiones"
   ]
  },
  {
   "cell_type": "code",
   "execution_count": null,
   "id": "2f97f5b3",
   "metadata": {},
   "outputs": [],
   "source": [
    "# Áreas con más no conformidades\n",
    "print(auditorias.groupby('Área')['No Conformidades'].sum().sort_values(ascending=False))"
   ]
  },
  {
   "cell_type": "code",
   "execution_count": null,
   "id": "0caa01e4",
   "metadata": {},
   "outputs": [],
   "source": [
    "# Análisis de reclamos\n",
    "print(satisfaccion['Tipo de Reclamo'].value_counts())"
   ]
  },
  {
   "cell_type": "code",
   "execution_count": null,
   "id": "a3f46473",
   "metadata": {},
   "outputs": [],
   "source": [
    "# Distribución de costos\n",
    "costos[['Costo Prevención', 'Costo Evaluación', 'Costo Fallas Internas', 'Costo Fallas Externas']].plot(kind='bar', stacked=True, figsize=(12,6))\n",
    "plt.title('Distribución de Costos de Calidad')\n",
    "plt.xlabel('Mes')\n",
    "plt.ylabel('Costo')\n",
    "plt.xticks(ticks=range(12), labels=costos['Mes'], rotation=45)\n",
    "plt.show()"
   ]
  }
 ],
 "metadata": {},
 "nbformat": 4,
 "nbformat_minor": 5
}