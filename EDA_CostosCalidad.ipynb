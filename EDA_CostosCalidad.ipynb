{
 "cells": [
  {
   "cell_type": "markdown",
   "id": "ccc841e4",
   "metadata": {},
   "source": [
    "# Análisis Exploratorio de Datos: Costos de la Calidad\n",
    "\n",
    "Este análisis explora la estructura y comportamiento de los costos asociados a la gestión de la calidad, incluyendo prevención, evaluación y fallas internas y externas."
   ]
  },
  {
   "cell_type": "markdown",
   "id": "1e545afc",
   "metadata": {},
   "source": [
    "## 1. Carga de Datos desde Google Colab"
   ]
  },
  {
   "cell_type": "code",
   "execution_count": null,
   "id": "5e1569b6",
   "metadata": {},
   "outputs": [],
   "source": [
    "from google.colab import files\n",
    "uploaded = files.upload()\n",
    "import pandas as pd\n",
    "import io\n",
    "df = pd.read_csv(io.BytesIO(uploaded['CostosCalidad.csv']))\n",
    "df.head()"
   ]
  },
  {
   "cell_type": "markdown",
   "id": "04ed0669",
   "metadata": {},
   "source": [
    "## 2. Análisis Exploratorio de Datos"
   ]
  },
  {
   "cell_type": "code",
   "execution_count": null,
   "id": "3af04d2f",
   "metadata": {},
   "outputs": [],
   "source": [
    "\n",
    "df.info()\n",
    "df.describe()\n",
    "df.isnull().sum()\n",
    "df.duplicated().sum()\n",
    "\n",
    "import matplotlib.pyplot as plt\n",
    "import seaborn as sns\n",
    "sns.set(style='whitegrid')\n",
    "\n",
    "# Gráfico de líneas de cada tipo de costo\n",
    "df.plot(x='Mes', y=['Costo Prevención', 'Costo Evaluación', 'Costo Fallas Internas', 'Costo Fallas Externas'], marker='o', figsize=(12,6))\n",
    "plt.title('Evolución de Costos de Calidad')\n",
    "plt.xticks(rotation=45)\n",
    "plt.ylabel('Costo ($)')\n",
    "plt.grid(True)\n",
    "plt.show()\n",
    "\n",
    "# Boxplot para cada tipo de costo\n",
    "df_melt = df.melt(id_vars='Mes', var_name='Tipo de Costo', value_name='Valor')\n",
    "sns.boxplot(data=df_melt, x='Tipo de Costo', y='Valor')\n",
    "plt.title('Distribución de Tipos de Costos de Calidad')\n",
    "plt.xticks(rotation=45)\n",
    "plt.show()\n",
    "\n",
    "# Participación porcentual mensual de cada tipo de costo\n",
    "df_percent = df.copy()\n",
    "cost_columns = ['Costo Prevención', 'Costo Evaluación', 'Costo Fallas Internas', 'Costo Fallas Externas']\n",
    "df_percent[cost_columns] = df_percent[cost_columns].div(df_percent[cost_columns].sum(axis=1), axis=0) * 100\n",
    "df_percent.set_index('Mes')[cost_columns].plot(kind='bar', stacked=True, figsize=(12,6))\n",
    "plt.title('Participación Porcentual de Costos de Calidad')\n",
    "plt.ylabel('%')\n",
    "plt.xticks(rotation=45)\n",
    "plt.legend(loc='upper right')\n",
    "plt.show()\n",
    "\n",
    "# Correlaciones entre tipos de costos\n",
    "sns.heatmap(df[cost_columns].corr(), annot=True, cmap='coolwarm')\n",
    "plt.title('Correlaciones entre Tipos de Costos')\n",
    "plt.show()\n"
   ]
  }
 ],
 "metadata": {},
 "nbformat": 4,
 "nbformat_minor": 5
}