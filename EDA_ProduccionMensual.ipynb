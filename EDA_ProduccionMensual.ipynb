{
 "cells": [
  {
   "cell_type": "markdown",
   "id": "db652fb4",
   "metadata": {},
   "source": [
    "# Análisis Exploratorio de Datos: Producción Mensual\n",
    "\n",
    "Este análisis se enfoca en variables clave de desempeño de la planta, incluyendo producción total, defectos, tiempos de ciclo y paradas no programadas."
   ]
  },
  {
   "cell_type": "markdown",
   "id": "feeb1528",
   "metadata": {},
   "source": [
    "## 1. Carga de Datos desde Google Colab"
   ]
  },
  {
   "cell_type": "code",
   "execution_count": null,
   "id": "a2fc3765",
   "metadata": {},
   "outputs": [],
   "source": [
    "from google.colab import files\n",
    "uploaded = files.upload()\n",
    "import pandas as pd\n",
    "import io\n",
    "df = pd.read_csv(io.BytesIO(uploaded['ProduccionMensual.csv']))\n",
    "df.head()"
   ]
  },
  {
   "cell_type": "markdown",
   "id": "ff39d24c",
   "metadata": {},
   "source": [
    "## 2. Análisis Exploratorio de Datos"
   ]
  },
  {
   "cell_type": "code",
   "execution_count": null,
   "id": "e5dcae4a",
   "metadata": {},
   "outputs": [],
   "source": [
    "\n",
    "df.info()\n",
    "df.describe()\n",
    "df.isnull().sum()\n",
    "df.duplicated().sum()\n",
    "\n",
    "import matplotlib.pyplot as plt\n",
    "import seaborn as sns\n",
    "sns.set(style='whitegrid')\n",
    "\n",
    "# Series de tiempo\n",
    "df.plot(x='Mes', y='Unidades Producidas', marker='o', title='Producción Mensual', figsize=(10,5))\n",
    "plt.xticks(rotation=45)\n",
    "plt.grid(True)\n",
    "plt.show()\n",
    "\n",
    "df.plot(x='Mes', y='Unidades Defectuosas', marker='o', color='r', title='Defectos Mensuales', figsize=(10,5))\n",
    "plt.xticks(rotation=45)\n",
    "plt.grid(True)\n",
    "plt.show()\n",
    "\n",
    "# Correlaciones\n",
    "sns.heatmap(df.corr(numeric_only=True), annot=True, cmap='Blues')\n",
    "plt.title('Mapa de Calor de Correlaciones')\n",
    "plt.show()\n",
    "\n",
    "# Histogramas\n",
    "df[['Unidades Producidas', 'Unidades Defectuosas', 'Paradas No Programadas']].hist(bins=10, figsize=(10,6))\n",
    "plt.suptitle(\"Distribución de Variables de Producción\")\n",
    "plt.show()\n",
    "\n",
    "# Boxplots\n",
    "sns.boxplot(data=df[['Tiempo de Ciclo', 'Paradas No Programadas']])\n",
    "plt.title(\"Boxplot de Ciclo y Paradas\")\n",
    "plt.show()\n"
   ]
  }
 ],
 "metadata": {},
 "nbformat": 4,
 "nbformat_minor": 5
}