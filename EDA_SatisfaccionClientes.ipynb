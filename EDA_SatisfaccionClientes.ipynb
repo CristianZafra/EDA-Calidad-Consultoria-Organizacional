{
 "cells": [
  {
   "cell_type": "markdown",
   "id": "3fd831cc",
   "metadata": {},
   "source": [
    "# Análisis Exploratorio de Datos: Satisfacción de Clientes\n",
    "\n",
    "Este análisis se enfoca en indicadores de experiencia del cliente, incluyendo nivel de satisfacción, tiempo de respuesta, tipo de reclamo y estado de resolución."
   ]
  },
  {
   "cell_type": "markdown",
   "id": "59633e39",
   "metadata": {},
   "source": [
    "## 1. Carga de Datos desde Google Colab"
   ]
  },
  {
   "cell_type": "code",
   "execution_count": null,
   "id": "91367b90",
   "metadata": {},
   "outputs": [],
   "source": [
    "from google.colab import files\n",
    "uploaded = files.upload()\n",
    "import pandas as pd\n",
    "import io\n",
    "df = pd.read_csv(io.BytesIO(uploaded['SatisfacciónClientes.csv']))\n",
    "df.head()"
   ]
  },
  {
   "cell_type": "markdown",
   "id": "6125ac0d",
   "metadata": {},
   "source": [
    "## 2. Análisis Exploratorio de Datos"
   ]
  },
  {
   "cell_type": "code",
   "execution_count": null,
   "id": "a08195d3",
   "metadata": {},
   "outputs": [],
   "source": [
    "\n",
    "df.info()\n",
    "df.describe()\n",
    "df.isnull().sum()\n",
    "df.duplicated().sum()\n",
    "\n",
    "# Conversión de fechas\n",
    "df['Fecha'] = pd.to_datetime(df['Fecha'])\n",
    "\n",
    "import matplotlib.pyplot as plt\n",
    "import seaborn as sns\n",
    "sns.set(style='whitegrid')\n",
    "\n",
    "# Distribución de la satisfacción\n",
    "sns.histplot(df['Satisfacción (1-5)'], bins=5, kde=True)\n",
    "plt.title('Distribución del Nivel de Satisfacción')\n",
    "plt.show()\n",
    "\n",
    "# Tiempo de respuesta\n",
    "sns.histplot(df['Tiempo de Respuesta'], bins=20, kde=True)\n",
    "plt.title('Distribución del Tiempo de Respuesta')\n",
    "plt.show()\n",
    "\n",
    "# Satisfacción por producto\n",
    "sns.boxplot(data=df, x='Producto', y='Satisfacción (1-5)')\n",
    "plt.title('Satisfacción por Producto')\n",
    "plt.show()\n",
    "\n",
    "# Satisfacción por tipo de reclamo\n",
    "sns.boxplot(data=df, x='Tipo de Reclamo', y='Satisfacción (1-5)')\n",
    "plt.title('Satisfacción por Tipo de Reclamo')\n",
    "plt.show()\n",
    "\n",
    "# Dispersión satisfacción vs tiempo de respuesta\n",
    "sns.scatterplot(data=df, x='Tiempo de Respuesta', y='Satisfacción (1-5)', hue='Resuelto')\n",
    "plt.title('Tiempo de Respuesta vs Satisfacción')\n",
    "plt.show()\n",
    "\n",
    "# Frecuencia de reclamos\n",
    "sns.countplot(data=df, x='Tipo de Reclamo', hue='Resuelto')\n",
    "plt.title('Tipo de Reclamo y Resolución')\n",
    "plt.show()\n"
   ]
  }
 ],
 "metadata": {},
 "nbformat": 4,
 "nbformat_minor": 5
}